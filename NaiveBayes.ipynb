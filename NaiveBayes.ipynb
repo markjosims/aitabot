{
 "nbformat": 4,
 "nbformat_minor": 2,
 "metadata": {
  "language_info": {
   "name": "python",
   "codemirror_mode": {
    "name": "ipython",
    "version": 3
   },
   "version": "3.7.4-final"
  },
  "orig_nbformat": 2,
  "file_extension": ".py",
  "mimetype": "text/x-python",
  "name": "python",
  "npconvert_exporter": "python",
  "pygments_lexer": "ipython3",
  "version": 3,
  "kernelspec": {
   "name": "python3",
   "display_name": "Python 3"
  }
 },
 "cells": [
  {
   "cell_type": "code",
   "execution_count": 1,
   "metadata": {},
   "outputs": [],
   "source": [
    "import nltk\n",
    "#from nltk.stem import PorterStemmer\n",
    "from nltk.stem import WordNetLemmatizer\n",
    "from nltk import RegexpTokenizer\n",
    "from nltk.corpus import stopwords\n",
    "import re\n",
    "import pandas as pd"
   ]
  },
  {
   "cell_type": "code",
   "execution_count": 6,
   "metadata": {},
   "outputs": [
    {
     "output_type": "execute_result",
     "data": {
      "text/plain": "                                               title  \\\n0  [AITA] I wrote an explanation in TIL and came ...   \n1               [AITA] Threw my parent's donuts away   \n2        I told a goth girl she looked like a clown.   \n3  AITA Had a disagreement about Les Miserables w...   \n4  [AITA] I 'hacked' our house router, changed th...   \n\n                                                body  class  \n0  [Here is the post in question](http://www.redd...   True  \n1  My parents are diabetic, morbidly obese, and a...   True  \n2                                        I was four.  False  \n3  I love the musical *Les Miserables*. A coworke...   True  \n4  Backstory: I'm a semi-professional competitive...   True  ",
      "text/html": "<div>\n<style scoped>\n    .dataframe tbody tr th:only-of-type {\n        vertical-align: middle;\n    }\n\n    .dataframe tbody tr th {\n        vertical-align: top;\n    }\n\n    .dataframe thead th {\n        text-align: right;\n    }\n</style>\n<table border=\"1\" class=\"dataframe\">\n  <thead>\n    <tr style=\"text-align: right;\">\n      <th></th>\n      <th>title</th>\n      <th>body</th>\n      <th>class</th>\n    </tr>\n  </thead>\n  <tbody>\n    <tr>\n      <td>0</td>\n      <td>[AITA] I wrote an explanation in TIL and came ...</td>\n      <td>[Here is the post in question](http://www.redd...</td>\n      <td>True</td>\n    </tr>\n    <tr>\n      <td>1</td>\n      <td>[AITA] Threw my parent's donuts away</td>\n      <td>My parents are diabetic, morbidly obese, and a...</td>\n      <td>True</td>\n    </tr>\n    <tr>\n      <td>2</td>\n      <td>I told a goth girl she looked like a clown.</td>\n      <td>I was four.</td>\n      <td>False</td>\n    </tr>\n    <tr>\n      <td>3</td>\n      <td>AITA Had a disagreement about Les Miserables w...</td>\n      <td>I love the musical *Les Miserables*. A coworke...</td>\n      <td>True</td>\n    </tr>\n    <tr>\n      <td>4</td>\n      <td>[AITA] I 'hacked' our house router, changed th...</td>\n      <td>Backstory: I'm a semi-professional competitive...</td>\n      <td>True</td>\n    </tr>\n  </tbody>\n</table>\n</div>"
     },
     "metadata": {},
     "execution_count": 6
    }
   ],
   "source": [
    "# load data\n",
    "data = pd.read_csv('reddit_data.csv')\n",
    "data.head()"
   ]
  },
  {
   "cell_type": "code",
   "execution_count": 7,
   "metadata": {},
   "outputs": [],
   "source": [
    "stop_words = set(stopwords.words('english'))\n",
    "stop_words.add('aita')\n",
    "lemmatizer = WordNetLemmatizer()\n",
    "tokenizer = RegexpTokenizer(r\"\\w+\")\n",
    "\n",
    "def preprocess(string):\n",
    "    str_lower = string.lower()\n",
    "    # remove numbers\n",
    "    str_no_num = re.sub(r'\\d+', '', str_lower)\n",
    "    # tokenize and remove stopwords\n",
    "    tokens = tokenizer.tokenize(str_no_num)\n",
    "    tokens = [w for w in tokens if w not in stop_words]\n",
    "    # stem words\n",
    "    tokens = [lemmatizer.lemmatize(w) for w in tokens]\n",
    "    return tokens\n",
    "\n",
    "title = [preprocess(t) for t in data['title']]\n",
    "body = [preprocess(b) for b in data['body']]"
   ]
  },
  {
   "cell_type": "code",
   "execution_count": 4,
   "metadata": {},
   "outputs": [
    {
     "output_type": "execute_result",
     "data": {
      "text/plain": "                                               title  \\\n0  [aita, wrote, explanation, til, came, condesce...   \n1                 [aita, threw, parent, donut, away]   \n2            [told, goth, girl, looked, like, clown]   \n3     [aita, disagreement, le, miserables, coworker]   \n4  [aita, hacked, house, router, changed, passwor...   \n\n                                                body  class  \n0  [post, question, http, www, reddit, com, r, to...   True  \n1  [parent, diabetic, morbidly, obese, addicted, ...   True  \n2                                             [four]  False  \n3  [love, musical, le, miserables, coworker, mine...   True  \n4  [backstory, semi, professional, competitive, g...   True  ",
      "text/html": "<div>\n<style scoped>\n    .dataframe tbody tr th:only-of-type {\n        vertical-align: middle;\n    }\n\n    .dataframe tbody tr th {\n        vertical-align: top;\n    }\n\n    .dataframe thead th {\n        text-align: right;\n    }\n</style>\n<table border=\"1\" class=\"dataframe\">\n  <thead>\n    <tr style=\"text-align: right;\">\n      <th></th>\n      <th>title</th>\n      <th>body</th>\n      <th>class</th>\n    </tr>\n  </thead>\n  <tbody>\n    <tr>\n      <td>0</td>\n      <td>[aita, wrote, explanation, til, came, condesce...</td>\n      <td>[post, question, http, www, reddit, com, r, to...</td>\n      <td>True</td>\n    </tr>\n    <tr>\n      <td>1</td>\n      <td>[aita, threw, parent, donut, away]</td>\n      <td>[parent, diabetic, morbidly, obese, addicted, ...</td>\n      <td>True</td>\n    </tr>\n    <tr>\n      <td>2</td>\n      <td>[told, goth, girl, looked, like, clown]</td>\n      <td>[four]</td>\n      <td>False</td>\n    </tr>\n    <tr>\n      <td>3</td>\n      <td>[aita, disagreement, le, miserables, coworker]</td>\n      <td>[love, musical, le, miserables, coworker, mine...</td>\n      <td>True</td>\n    </tr>\n    <tr>\n      <td>4</td>\n      <td>[aita, hacked, house, router, changed, passwor...</td>\n      <td>[backstory, semi, professional, competitive, g...</td>\n      <td>True</td>\n    </tr>\n  </tbody>\n</table>\n</div>"
     },
     "metadata": {},
     "execution_count": 4
    }
   ],
   "source": [
    "data['title'] = title\n",
    "data['body'] = body\n",
    "data.head()"
   ]
  },
  {
   "cell_type": "code",
   "execution_count": 9,
   "metadata": {},
   "outputs": [],
   "source": [
    "data.to_csv('preprocessed_data.csv', index=False)"
   ]
  },
  {
   "cell_type": "code",
   "execution_count": null,
   "metadata": {},
   "outputs": [],
   "source": [
    "data = pd.read_csv('preprocessed_data.csv')"
   ]
  }
 ]
}