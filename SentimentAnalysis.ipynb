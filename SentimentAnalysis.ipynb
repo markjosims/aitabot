{
<<<<<<< HEAD
=======
 "nbformat": 4,
 "nbformat_minor": 2,
 "metadata": {
  "language_info": {
   "name": "python",
   "codemirror_mode": {
    "name": "ipython",
    "version": 3
   },
   "version": "3.7.4-final"
  },
  "orig_nbformat": 2,
  "file_extension": ".py",
  "mimetype": "text/x-python",
  "name": "python",
  "npconvert_exporter": "python",
  "pygments_lexer": "ipython3",
  "version": 3,
  "kernelspec": {
   "name": "python3",
   "display_name": "Python 3"
  }
 },
>>>>>>> 3d805c91ee71e9f8fa234c3dca6843cdefb932e4
 "cells": [
  {
   "cell_type": "markdown",
   "metadata": {},
   "source": [
    "# Sentiment Analysis \n",
    "\n",
    "In this notebook, we use the data from the subreddit r/AmITheAsshole. We will be using NLTK and other natural language libraries to reduce our dataset into sentiment analysis scores. \n",
    "\n",
<<<<<<< HEAD
    "This is the data we will be training on. The \"class\" is a boolean indicating whether or not the author of the post was voted \"a-hole\" by the subreddit's community.\n"
   ]
  },
  {
   "cell_type": "code",
   "execution_count": 2,
   "metadata": {},
   "outputs": [
    {
     "data": {
      "text/html": [
       "<div>\n",
       "<style scoped>\n",
       "    .dataframe tbody tr th:only-of-type {\n",
       "        vertical-align: middle;\n",
       "    }\n",
       "\n",
       "    .dataframe tbody tr th {\n",
       "        vertical-align: top;\n",
       "    }\n",
       "\n",
       "    .dataframe thead th {\n",
       "        text-align: right;\n",
       "    }\n",
       "</style>\n",
       "<table border=\"1\" class=\"dataframe\">\n",
       "  <thead>\n",
       "    <tr style=\"text-align: right;\">\n",
       "      <th></th>\n",
       "      <th>title</th>\n",
       "      <th>body</th>\n",
       "      <th>class</th>\n",
       "    </tr>\n",
       "  </thead>\n",
       "  <tbody>\n",
       "    <tr>\n",
       "      <td>0</td>\n",
       "      <td>[AITA] I wrote an explanation in TIL and came ...</td>\n",
       "      <td>[Here is the post in question](http://www.redd...</td>\n",
       "      <td>True</td>\n",
       "    </tr>\n",
       "    <tr>\n",
       "      <td>1</td>\n",
       "      <td>[AITA] Threw my parent's donuts away</td>\n",
       "      <td>My parents are diabetic, morbidly obese, and a...</td>\n",
       "      <td>True</td>\n",
       "    </tr>\n",
       "    <tr>\n",
       "      <td>2</td>\n",
       "      <td>I told a goth girl she looked like a clown.</td>\n",
       "      <td>I was four.</td>\n",
       "      <td>False</td>\n",
       "    </tr>\n",
       "    <tr>\n",
       "      <td>3</td>\n",
       "      <td>AITA Had a disagreement about Les Miserables w...</td>\n",
       "      <td>I love the musical *Les Miserables*. A coworke...</td>\n",
       "      <td>True</td>\n",
       "    </tr>\n",
       "    <tr>\n",
       "      <td>4</td>\n",
       "      <td>[AITA] I 'hacked' our house router, changed th...</td>\n",
       "      <td>Backstory: I'm a semi-professional competitive...</td>\n",
       "      <td>True</td>\n",
       "    </tr>\n",
       "  </tbody>\n",
       "</table>\n",
       "</div>"
      ],
      "text/plain": [
       "                                               title  \\\n",
       "0  [AITA] I wrote an explanation in TIL and came ...   \n",
       "1               [AITA] Threw my parent's donuts away   \n",
       "2        I told a goth girl she looked like a clown.   \n",
       "3  AITA Had a disagreement about Les Miserables w...   \n",
       "4  [AITA] I 'hacked' our house router, changed th...   \n",
       "\n",
       "                                                body  class  \n",
       "0  [Here is the post in question](http://www.redd...   True  \n",
       "1  My parents are diabetic, morbidly obese, and a...   True  \n",
       "2                                        I was four.  False  \n",
       "3  I love the musical *Les Miserables*. A coworke...   True  \n",
       "4  Backstory: I'm a semi-professional competitive...   True  "
      ]
     },
     "execution_count": 2,
     "metadata": {},
     "output_type": "execute_result"
    }
   ],
   "source": [
    "# load data\n",
    "data = pd.read_csv('reddit_data.csv')\n",
    "data.head()"
=======
    "These are the scores we will be using in our training. \n"
>>>>>>> 3d805c91ee71e9f8fa234c3dca6843cdefb932e4
   ]
  },
  {
   "cell_type": "code",
<<<<<<< HEAD
=======
   "execution_count": 2,
   "metadata": {},
   "outputs": [
    {
     "output_type": "execute_result",
     "data": {
      "text/plain": "                                               title  \\\n0  [AITA] I wrote an explanation in TIL and came ...   \n1               [AITA] Threw my parent's donuts away   \n2        I told a goth girl she looked like a clown.   \n3  AITA Had a disagreement about Les Miserables w...   \n4  [AITA] I 'hacked' our house router, changed th...   \n\n                                                body  class  \n0  [Here is the post in question](http://www.redd...   True  \n1  My parents are diabetic, morbidly obese, and a...   True  \n2                                        I was four.  False  \n3  I love the musical *Les Miserables*. A coworke...   True  \n4  Backstory: I'm a semi-professional competitive...   True  ",
      "text/html": "<div>\n<style scoped>\n    .dataframe tbody tr th:only-of-type {\n        vertical-align: middle;\n    }\n\n    .dataframe tbody tr th {\n        vertical-align: top;\n    }\n\n    .dataframe thead th {\n        text-align: right;\n    }\n</style>\n<table border=\"1\" class=\"dataframe\">\n  <thead>\n    <tr style=\"text-align: right;\">\n      <th></th>\n      <th>title</th>\n      <th>body</th>\n      <th>class</th>\n    </tr>\n  </thead>\n  <tbody>\n    <tr>\n      <td>0</td>\n      <td>[AITA] I wrote an explanation in TIL and came ...</td>\n      <td>[Here is the post in question](http://www.redd...</td>\n      <td>True</td>\n    </tr>\n    <tr>\n      <td>1</td>\n      <td>[AITA] Threw my parent's donuts away</td>\n      <td>My parents are diabetic, morbidly obese, and a...</td>\n      <td>True</td>\n    </tr>\n    <tr>\n      <td>2</td>\n      <td>I told a goth girl she looked like a clown.</td>\n      <td>I was four.</td>\n      <td>False</td>\n    </tr>\n    <tr>\n      <td>3</td>\n      <td>AITA Had a disagreement about Les Miserables w...</td>\n      <td>I love the musical *Les Miserables*. A coworke...</td>\n      <td>True</td>\n    </tr>\n    <tr>\n      <td>4</td>\n      <td>[AITA] I 'hacked' our house router, changed th...</td>\n      <td>Backstory: I'm a semi-professional competitive...</td>\n      <td>True</td>\n    </tr>\n  </tbody>\n</table>\n</div>"
     },
     "metadata": {},
     "execution_count": 2
    }
   ],
   "source": [
    "# load data\n",
    "data = pd.read_csv('reddit_data.csv')\n",
    "data.head()"
   ]
  },
  {
   "cell_type": "code",
>>>>>>> 3d805c91ee71e9f8fa234c3dca6843cdefb932e4
   "execution_count": 14,
   "metadata": {},
   "outputs": [],
   "source": [
    "import nltk\n",
    "from textblob import TextBlob\n",
    "from nltk.sentiment.vader import SentimentIntensityAnalyzport pandas as pd\n",
    "from sklearn.neighbors import KNeighborsClassifier\n",
    "from sklearn.model_selection import cross_val_score, cross_val_predict, GridSearchCV\n",
    "from sklearn.metrics import classification_report\n",
    "from sklearn.model_selection import train_test_split\n",
    "from sklearn.decomposition import PCA\n",
    "from sklearn.tree import DecisionTreeClassifier\n",
    "from sklearn.ensemble import RandomForestClassifier\n",
    "from sklearn.decomposition import PCA\n",
    "from sklearn.tree import DecisionTreeClassifier\n",
    "from sklearn.metrics import accuracy_score\n",
    "from imblearn.over_sampling import SMOTE"
   ]
  },
  {
   "cell_type": "code",
   "execution_count": 8,
   "metadata": {},
   "outputs": [
    {
     "data": {
<<<<<<< HEAD
      "text/html": [
       "<div>\n",
       "<style scoped>\n",
       "    .dataframe tbody tr th:only-of-type {\n",
       "        vertical-align: middle;\n",
       "    }\n",
       "\n",
       "    .dataframe tbody tr th {\n",
       "        vertical-align: top;\n",
       "    }\n",
       "\n",
       "    .dataframe thead th {\n",
       "        text-align: right;\n",
       "    }\n",
       "</style>\n",
       "<table border=\"1\" class=\"dataframe\">\n",
       "  <thead>\n",
       "    <tr style=\"text-align: right;\">\n",
       "      <th></th>\n",
       "      <th>title</th>\n",
       "      <th>body</th>\n",
       "      <th>class</th>\n",
       "      <th>body_pos</th>\n",
       "      <th>body_neg</th>\n",
       "      <th>body_neu</th>\n",
       "      <th>body_comp</th>\n",
       "      <th>title_pos</th>\n",
       "      <th>title_neg</th>\n",
       "      <th>title_neu</th>\n",
       "      <th>title_comp</th>\n",
       "    </tr>\n",
       "  </thead>\n",
       "  <tbody>\n",
       "    <tr>\n",
       "      <td>0</td>\n",
       "      <td>[AITA] I wrote an explanation in TIL and came ...</td>\n",
       "      <td>[Here is the post in question](http://www.redd...</td>\n",
       "      <td>True</td>\n",
       "      <td>0.169</td>\n",
       "      <td>0.068</td>\n",
       "      <td>0.763</td>\n",
       "      <td>0.7692</td>\n",
       "      <td>0.000</td>\n",
       "      <td>0.000</td>\n",
       "      <td>1.000</td>\n",
       "      <td>0.0000</td>\n",
       "    </tr>\n",
       "    <tr>\n",
       "      <td>1</td>\n",
       "      <td>[AITA] Threw my parent's donuts away</td>\n",
       "      <td>My parents are diabetic, morbidly obese, and a...</td>\n",
       "      <td>True</td>\n",
       "      <td>0.088</td>\n",
       "      <td>0.050</td>\n",
       "      <td>0.862</td>\n",
       "      <td>0.8591</td>\n",
       "      <td>0.000</td>\n",
       "      <td>0.000</td>\n",
       "      <td>1.000</td>\n",
       "      <td>0.0000</td>\n",
       "    </tr>\n",
       "    <tr>\n",
       "      <td>2</td>\n",
       "      <td>I told a goth girl she looked like a clown.</td>\n",
       "      <td>I was four.</td>\n",
       "      <td>False</td>\n",
       "      <td>0.000</td>\n",
       "      <td>0.000</td>\n",
       "      <td>1.000</td>\n",
       "      <td>0.0000</td>\n",
       "      <td>0.294</td>\n",
       "      <td>0.000</td>\n",
       "      <td>0.706</td>\n",
       "      <td>0.3612</td>\n",
       "    </tr>\n",
       "    <tr>\n",
       "      <td>3</td>\n",
       "      <td>AITA Had a disagreement about Les Miserables w...</td>\n",
       "      <td>I love the musical *Les Miserables*. A coworke...</td>\n",
       "      <td>True</td>\n",
       "      <td>0.132</td>\n",
       "      <td>0.054</td>\n",
       "      <td>0.814</td>\n",
       "      <td>0.9075</td>\n",
       "      <td>0.000</td>\n",
       "      <td>0.263</td>\n",
       "      <td>0.737</td>\n",
       "      <td>-0.3612</td>\n",
       "    </tr>\n",
       "    <tr>\n",
       "      <td>4</td>\n",
       "      <td>[AITA] I 'hacked' our house router, changed th...</td>\n",
       "      <td>Backstory: I'm a semi-professional competitive...</td>\n",
       "      <td>True</td>\n",
       "      <td>0.077</td>\n",
       "      <td>0.048</td>\n",
       "      <td>0.875</td>\n",
       "      <td>0.9174</td>\n",
       "      <td>0.000</td>\n",
       "      <td>0.000</td>\n",
       "      <td>1.000</td>\n",
       "      <td>0.0000</td>\n",
       "    </tr>\n",
       "  </tbody>\n",
       "</table>\n",
       "</div>"
      ],
      "text/plain": [
       "                                               title  \\\n",
       "0  [AITA] I wrote an explanation in TIL and came ...   \n",
       "1               [AITA] Threw my parent's donuts away   \n",
       "2        I told a goth girl she looked like a clown.   \n",
       "3  AITA Had a disagreement about Les Miserables w...   \n",
       "4  [AITA] I 'hacked' our house router, changed th...   \n",
       "\n",
       "                                                body  class  body_pos  \\\n",
       "0  [Here is the post in question](http://www.redd...   True     0.169   \n",
       "1  My parents are diabetic, morbidly obese, and a...   True     0.088   \n",
       "2                                        I was four.  False     0.000   \n",
       "3  I love the musical *Les Miserables*. A coworke...   True     0.132   \n",
       "4  Backstory: I'm a semi-professional competitive...   True     0.077   \n",
       "\n",
       "   body_neg  body_neu  body_comp  title_pos  title_neg  title_neu  title_comp  \n",
       "0     0.068     0.763     0.7692      0.000      0.000      1.000      0.0000  \n",
       "1     0.050     0.862     0.8591      0.000      0.000      1.000      0.0000  \n",
       "2     0.000     1.000     0.0000      0.294      0.000      0.706      0.3612  \n",
       "3     0.054     0.814     0.9075      0.000      0.263      0.737     -0.3612  \n",
       "4     0.048     0.875     0.9174      0.000      0.000      1.000      0.0000  "
      ]
=======
      "text/plain": "                                               title  \\\n0  [AITA] I wrote an explanation in TIL and came ...   \n1               [AITA] Threw my parent's donuts away   \n2        I told a goth girl she looked like a clown.   \n3  AITA Had a disagreement about Les Miserables w...   \n4  [AITA] I 'hacked' our house router, changed th...   \n\n                                                body  class  body_pos  \\\n0  [Here is the post in question](http://www.redd...   True     0.169   \n1  My parents are diabetic, morbidly obese, and a...   True     0.088   \n2                                        I was four.  False     0.000   \n3  I love the musical *Les Miserables*. A coworke...   True     0.132   \n4  Backstory: I'm a semi-professional competitive...   True     0.077   \n\n   body_neg  body_neu  body_comp  title_pos  title_neg  title_neu  title_comp  \n0     0.068     0.763     0.7692      0.000      0.000      1.000      0.0000  \n1     0.050     0.862     0.8591      0.000      0.000      1.000      0.0000  \n2     0.000     1.000     0.0000      0.294      0.000      0.706      0.3612  \n3     0.054     0.814     0.9075      0.000      0.263      0.737     -0.3612  \n4     0.048     0.875     0.9174      0.000      0.000      1.000      0.0000  ",
      "text/html": "<div>\n<style scoped>\n    .dataframe tbody tr th:only-of-type {\n        vertical-align: middle;\n    }\n\n    .dataframe tbody tr th {\n        vertical-align: top;\n    }\n\n    .dataframe thead th {\n        text-align: right;\n    }\n</style>\n<table border=\"1\" class=\"dataframe\">\n  <thead>\n    <tr style=\"text-align: right;\">\n      <th></th>\n      <th>title</th>\n      <th>body</th>\n      <th>class</th>\n      <th>body_pos</th>\n      <th>body_neg</th>\n      <th>body_neu</th>\n      <th>body_comp</th>\n      <th>title_pos</th>\n      <th>title_neg</th>\n      <th>title_neu</th>\n      <th>title_comp</th>\n    </tr>\n  </thead>\n  <tbody>\n    <tr>\n      <td>0</td>\n      <td>[AITA] I wrote an explanation in TIL and came ...</td>\n      <td>[Here is the post in question](http://www.redd...</td>\n      <td>True</td>\n      <td>0.169</td>\n      <td>0.068</td>\n      <td>0.763</td>\n      <td>0.7692</td>\n      <td>0.000</td>\n      <td>0.000</td>\n      <td>1.000</td>\n      <td>0.0000</td>\n    </tr>\n    <tr>\n      <td>1</td>\n      <td>[AITA] Threw my parent's donuts away</td>\n      <td>My parents are diabetic, morbidly obese, and a...</td>\n      <td>True</td>\n      <td>0.088</td>\n      <td>0.050</td>\n      <td>0.862</td>\n      <td>0.8591</td>\n      <td>0.000</td>\n      <td>0.000</td>\n      <td>1.000</td>\n      <td>0.0000</td>\n    </tr>\n    <tr>\n      <td>2</td>\n      <td>I told a goth girl she looked like a clown.</td>\n      <td>I was four.</td>\n      <td>False</td>\n      <td>0.000</td>\n      <td>0.000</td>\n      <td>1.000</td>\n      <td>0.0000</td>\n      <td>0.294</td>\n      <td>0.000</td>\n      <td>0.706</td>\n      <td>0.3612</td>\n    </tr>\n    <tr>\n      <td>3</td>\n      <td>AITA Had a disagreement about Les Miserables w...</td>\n      <td>I love the musical *Les Miserables*. A coworke...</td>\n      <td>True</td>\n      <td>0.132</td>\n      <td>0.054</td>\n      <td>0.814</td>\n      <td>0.9075</td>\n      <td>0.000</td>\n      <td>0.263</td>\n      <td>0.737</td>\n      <td>-0.3612</td>\n    </tr>\n    <tr>\n      <td>4</td>\n      <td>[AITA] I 'hacked' our house router, changed th...</td>\n      <td>Backstory: I'm a semi-professional competitive...</td>\n      <td>True</td>\n      <td>0.077</td>\n      <td>0.048</td>\n      <td>0.875</td>\n      <td>0.9174</td>\n      <td>0.000</td>\n      <td>0.000</td>\n      <td>1.000</td>\n      <td>0.0000</td>\n    </tr>\n  </tbody>\n</table>\n</div>"
>>>>>>> 3d805c91ee71e9f8fa234c3dca6843cdefb932e4
     },
     "execution_count": 8,
     "metadata": {},
<<<<<<< HEAD
     "output_type": "execute_result"
=======
     "execution_count": 8
>>>>>>> 3d805c91ee71e9f8fa234c3dca6843cdefb932e4
    }
   ],
   "source": [
    "data = pd.read_csv('sentiment-data.csv')\n",
    "data.head()"
   ]
  },
  {
   "cell_type": "markdown",
   "metadata": {},
   "source": [
    "## Creating the DataFrame \n",
    "For each entry from the reddit CSV, we run a a sentiment analysis for every title and the contents of the post. The resulting sentiment scores are the texts positive, neutral and compound scores. "
   ]
  },
  {
   "cell_type": "code",
   "execution_count": 12,
   "metadata": {},
   "outputs": [],
   "source": [
    "#Initalize Semtiment Analyzer\n",
    "sid = SentimentIntensityAnalyzer()\n",
    "\n",
    "body_sentiment_scores = [sid.polarity_scores(body) for body in data['body']]\n",
    "title_sentiment_scores = [sid.polarity_scores(title) for title in data['title']]\n",
    "#body_sentiment_scores"
   ]
  },
  {
   "cell_type": "code",
   "execution_count": 10,
   "metadata": {},
   "outputs": [
    {
     "data": {
<<<<<<< HEAD
      "text/html": [
       "<div>\n",
       "<style scoped>\n",
       "    .dataframe tbody tr th:only-of-type {\n",
       "        vertical-align: middle;\n",
       "    }\n",
       "\n",
       "    .dataframe tbody tr th {\n",
       "        vertical-align: top;\n",
       "    }\n",
       "\n",
       "    .dataframe thead th {\n",
       "        text-align: right;\n",
       "    }\n",
       "</style>\n",
       "<table border=\"1\" class=\"dataframe\">\n",
       "  <thead>\n",
       "    <tr style=\"text-align: right;\">\n",
       "      <th></th>\n",
       "      <th>title</th>\n",
       "      <th>body</th>\n",
       "      <th>class</th>\n",
       "      <th>body_pos</th>\n",
       "      <th>body_neg</th>\n",
       "      <th>body_neu</th>\n",
       "      <th>body_comp</th>\n",
       "      <th>title_pos</th>\n",
       "      <th>title_neg</th>\n",
       "      <th>title_neu</th>\n",
       "      <th>title_comp</th>\n",
       "    </tr>\n",
       "  </thead>\n",
       "  <tbody>\n",
       "    <tr>\n",
       "      <td>0</td>\n",
       "      <td>[AITA] I wrote an explanation in TIL and came ...</td>\n",
       "      <td>[Here is the post in question](http://www.redd...</td>\n",
       "      <td>True</td>\n",
       "      <td>0.169</td>\n",
       "      <td>0.068</td>\n",
       "      <td>0.763</td>\n",
       "      <td>0.7692</td>\n",
       "      <td>0.000</td>\n",
       "      <td>0.000</td>\n",
       "      <td>1.000</td>\n",
       "      <td>0.0000</td>\n",
       "    </tr>\n",
       "    <tr>\n",
       "      <td>1</td>\n",
       "      <td>[AITA] Threw my parent's donuts away</td>\n",
       "      <td>My parents are diabetic, morbidly obese, and a...</td>\n",
       "      <td>True</td>\n",
       "      <td>0.088</td>\n",
       "      <td>0.050</td>\n",
       "      <td>0.862</td>\n",
       "      <td>0.8591</td>\n",
       "      <td>0.000</td>\n",
       "      <td>0.000</td>\n",
       "      <td>1.000</td>\n",
       "      <td>0.0000</td>\n",
       "    </tr>\n",
       "    <tr>\n",
       "      <td>2</td>\n",
       "      <td>I told a goth girl she looked like a clown.</td>\n",
       "      <td>I was four.</td>\n",
       "      <td>False</td>\n",
       "      <td>0.000</td>\n",
       "      <td>0.000</td>\n",
       "      <td>1.000</td>\n",
       "      <td>0.0000</td>\n",
       "      <td>0.294</td>\n",
       "      <td>0.000</td>\n",
       "      <td>0.706</td>\n",
       "      <td>0.3612</td>\n",
       "    </tr>\n",
       "    <tr>\n",
       "      <td>3</td>\n",
       "      <td>AITA Had a disagreement about Les Miserables w...</td>\n",
       "      <td>I love the musical *Les Miserables*. A coworke...</td>\n",
       "      <td>True</td>\n",
       "      <td>0.132</td>\n",
       "      <td>0.054</td>\n",
       "      <td>0.814</td>\n",
       "      <td>0.9075</td>\n",
       "      <td>0.000</td>\n",
       "      <td>0.263</td>\n",
       "      <td>0.737</td>\n",
       "      <td>-0.3612</td>\n",
       "    </tr>\n",
       "    <tr>\n",
       "      <td>4</td>\n",
       "      <td>[AITA] I 'hacked' our house router, changed th...</td>\n",
       "      <td>Backstory: I'm a semi-professional competitive...</td>\n",
       "      <td>True</td>\n",
       "      <td>0.077</td>\n",
       "      <td>0.048</td>\n",
       "      <td>0.875</td>\n",
       "      <td>0.9174</td>\n",
       "      <td>0.000</td>\n",
       "      <td>0.000</td>\n",
       "      <td>1.000</td>\n",
       "      <td>0.0000</td>\n",
       "    </tr>\n",
       "  </tbody>\n",
       "</table>\n",
       "</div>"
      ],
      "text/plain": [
       "                                               title  \\\n",
       "0  [AITA] I wrote an explanation in TIL and came ...   \n",
       "1               [AITA] Threw my parent's donuts away   \n",
       "2        I told a goth girl she looked like a clown.   \n",
       "3  AITA Had a disagreement about Les Miserables w...   \n",
       "4  [AITA] I 'hacked' our house router, changed th...   \n",
       "\n",
       "                                                body  class  body_pos  \\\n",
       "0  [Here is the post in question](http://www.redd...   True     0.169   \n",
       "1  My parents are diabetic, morbidly obese, and a...   True     0.088   \n",
       "2                                        I was four.  False     0.000   \n",
       "3  I love the musical *Les Miserables*. A coworke...   True     0.132   \n",
       "4  Backstory: I'm a semi-professional competitive...   True     0.077   \n",
       "\n",
       "   body_neg  body_neu  body_comp  title_pos  title_neg  title_neu  title_comp  \n",
       "0     0.068     0.763     0.7692      0.000      0.000      1.000      0.0000  \n",
       "1     0.050     0.862     0.8591      0.000      0.000      1.000      0.0000  \n",
       "2     0.000     1.000     0.0000      0.294      0.000      0.706      0.3612  \n",
       "3     0.054     0.814     0.9075      0.000      0.263      0.737     -0.3612  \n",
       "4     0.048     0.875     0.9174      0.000      0.000      1.000      0.0000  "
      ]
=======
      "text/plain": "                                               title  \\\n0  [AITA] I wrote an explanation in TIL and came ...   \n1               [AITA] Threw my parent's donuts away   \n2        I told a goth girl she looked like a clown.   \n3  AITA Had a disagreement about Les Miserables w...   \n4  [AITA] I 'hacked' our house router, changed th...   \n\n                                                body  class  body_pos  \\\n0  [Here is the post in question](http://www.redd...   True     0.169   \n1  My parents are diabetic, morbidly obese, and a...   True     0.088   \n2                                        I was four.  False     0.000   \n3  I love the musical *Les Miserables*. A coworke...   True     0.132   \n4  Backstory: I'm a semi-professional competitive...   True     0.077   \n\n   body_neg  body_neu  body_comp  title_pos  title_neg  title_neu  title_comp  \n0     0.068     0.763     0.7692      0.000      0.000      1.000      0.0000  \n1     0.050     0.862     0.8591      0.000      0.000      1.000      0.0000  \n2     0.000     1.000     0.0000      0.294      0.000      0.706      0.3612  \n3     0.054     0.814     0.9075      0.000      0.263      0.737     -0.3612  \n4     0.048     0.875     0.9174      0.000      0.000      1.000      0.0000  ",
      "text/html": "<div>\n<style scoped>\n    .dataframe tbody tr th:only-of-type {\n        vertical-align: middle;\n    }\n\n    .dataframe tbody tr th {\n        vertical-align: top;\n    }\n\n    .dataframe thead th {\n        text-align: right;\n    }\n</style>\n<table border=\"1\" class=\"dataframe\">\n  <thead>\n    <tr style=\"text-align: right;\">\n      <th></th>\n      <th>title</th>\n      <th>body</th>\n      <th>class</th>\n      <th>body_pos</th>\n      <th>body_neg</th>\n      <th>body_neu</th>\n      <th>body_comp</th>\n      <th>title_pos</th>\n      <th>title_neg</th>\n      <th>title_neu</th>\n      <th>title_comp</th>\n    </tr>\n  </thead>\n  <tbody>\n    <tr>\n      <td>0</td>\n      <td>[AITA] I wrote an explanation in TIL and came ...</td>\n      <td>[Here is the post in question](http://www.redd...</td>\n      <td>True</td>\n      <td>0.169</td>\n      <td>0.068</td>\n      <td>0.763</td>\n      <td>0.7692</td>\n      <td>0.000</td>\n      <td>0.000</td>\n      <td>1.000</td>\n      <td>0.0000</td>\n    </tr>\n    <tr>\n      <td>1</td>\n      <td>[AITA] Threw my parent's donuts away</td>\n      <td>My parents are diabetic, morbidly obese, and a...</td>\n      <td>True</td>\n      <td>0.088</td>\n      <td>0.050</td>\n      <td>0.862</td>\n      <td>0.8591</td>\n      <td>0.000</td>\n      <td>0.000</td>\n      <td>1.000</td>\n      <td>0.0000</td>\n    </tr>\n    <tr>\n      <td>2</td>\n      <td>I told a goth girl she looked like a clown.</td>\n      <td>I was four.</td>\n      <td>False</td>\n      <td>0.000</td>\n      <td>0.000</td>\n      <td>1.000</td>\n      <td>0.0000</td>\n      <td>0.294</td>\n      <td>0.000</td>\n      <td>0.706</td>\n      <td>0.3612</td>\n    </tr>\n    <tr>\n      <td>3</td>\n      <td>AITA Had a disagreement about Les Miserables w...</td>\n      <td>I love the musical *Les Miserables*. A coworke...</td>\n      <td>True</td>\n      <td>0.132</td>\n      <td>0.054</td>\n      <td>0.814</td>\n      <td>0.9075</td>\n      <td>0.000</td>\n      <td>0.263</td>\n      <td>0.737</td>\n      <td>-0.3612</td>\n    </tr>\n    <tr>\n      <td>4</td>\n      <td>[AITA] I 'hacked' our house router, changed th...</td>\n      <td>Backstory: I'm a semi-professional competitive...</td>\n      <td>True</td>\n      <td>0.077</td>\n      <td>0.048</td>\n      <td>0.875</td>\n      <td>0.9174</td>\n      <td>0.000</td>\n      <td>0.000</td>\n      <td>1.000</td>\n      <td>0.0000</td>\n    </tr>\n  </tbody>\n</table>\n</div>"
>>>>>>> 3d805c91ee71e9f8fa234c3dca6843cdefb932e4
     },
     "execution_count": 10,
     "metadata": {},
<<<<<<< HEAD
     "output_type": "execute_result"
=======
     "execution_count": 10
>>>>>>> 3d805c91ee71e9f8fa234c3dca6843cdefb932e4
    }
   ],
   "source": [
    "data['body_pos'] = [score['pos'] for score in body_sentiment_scores]\n",
    "data['body_neg'] = [score['neg'] for score in body_sentiment_scores]\n",
    "data['body_neu'] = [score['neu'] for score in body_sentiment_scores]\n",
    "data['body_comp'] = [score['compound'] for score in body_sentiment_scores]\n",
    "\n",
    "data['title_pos'] = [score['pos'] for score in title_sentiment_scores]\n",
    "data['title_neg'] = [score['neg'] for score in title_sentiment_scores]\n",
    "data['title_neu'] = [score['neu'] for score in title_sentiment_scores]\n",
    "data['title_comp'] = [score['compound'] for score in title_sentiment_scores]\n",
    "\n",
    "data.to_csv('sentiment-data.csv', index=False)\n",
    "data.head()"
   ]
  },
  {
   "cell_type": "markdown",
   "metadata": {},
   "source": [
    "## SMOTE\n",
    "We noticed that our data was skewed. There were more 'non asshole' entries then there were 'asshole.' This imbalance caused our models to not train accurately. \n",
    "\n",
    "We use the imbalance-learn library and perform the SMOTE function to inject more 'asshole' records. "
   ]
  },
  {
   "cell_type": "code",
   "execution_count": 11,
   "metadata": {},
   "outputs": [
    {
     "data": {
<<<<<<< HEAD
      "text/html": [
       "<div>\n",
       "<style scoped>\n",
       "    .dataframe tbody tr th:only-of-type {\n",
       "        vertical-align: middle;\n",
       "    }\n",
       "\n",
       "    .dataframe tbody tr th {\n",
       "        vertical-align: top;\n",
       "    }\n",
       "\n",
       "    .dataframe thead th {\n",
       "        text-align: right;\n",
       "    }\n",
       "</style>\n",
       "<table border=\"1\" class=\"dataframe\">\n",
       "  <thead>\n",
       "    <tr style=\"text-align: right;\">\n",
       "      <th></th>\n",
       "      <th>body_pos</th>\n",
       "      <th>body_neg</th>\n",
       "      <th>body_neu</th>\n",
       "      <th>body_comp</th>\n",
       "      <th>title_pos</th>\n",
       "      <th>title_neg</th>\n",
       "      <th>title_neu</th>\n",
       "      <th>title_comp</th>\n",
       "    </tr>\n",
       "  </thead>\n",
       "  <tbody>\n",
       "    <tr>\n",
       "      <td>0</td>\n",
       "      <td>0.169</td>\n",
       "      <td>0.068</td>\n",
       "      <td>0.763</td>\n",
       "      <td>0.7692</td>\n",
       "      <td>0.000</td>\n",
       "      <td>0.000</td>\n",
       "      <td>1.000</td>\n",
       "      <td>0.0000</td>\n",
       "    </tr>\n",
       "    <tr>\n",
       "      <td>1</td>\n",
       "      <td>0.088</td>\n",
       "      <td>0.050</td>\n",
       "      <td>0.862</td>\n",
       "      <td>0.8591</td>\n",
       "      <td>0.000</td>\n",
       "      <td>0.000</td>\n",
       "      <td>1.000</td>\n",
       "      <td>0.0000</td>\n",
       "    </tr>\n",
       "    <tr>\n",
       "      <td>2</td>\n",
       "      <td>0.000</td>\n",
       "      <td>0.000</td>\n",
       "      <td>1.000</td>\n",
       "      <td>0.0000</td>\n",
       "      <td>0.294</td>\n",
       "      <td>0.000</td>\n",
       "      <td>0.706</td>\n",
       "      <td>0.3612</td>\n",
       "    </tr>\n",
       "    <tr>\n",
       "      <td>3</td>\n",
       "      <td>0.132</td>\n",
       "      <td>0.054</td>\n",
       "      <td>0.814</td>\n",
       "      <td>0.9075</td>\n",
       "      <td>0.000</td>\n",
       "      <td>0.263</td>\n",
       "      <td>0.737</td>\n",
       "      <td>-0.3612</td>\n",
       "    </tr>\n",
       "    <tr>\n",
       "      <td>4</td>\n",
       "      <td>0.077</td>\n",
       "      <td>0.048</td>\n",
       "      <td>0.875</td>\n",
       "      <td>0.9174</td>\n",
       "      <td>0.000</td>\n",
       "      <td>0.000</td>\n",
       "      <td>1.000</td>\n",
       "      <td>0.0000</td>\n",
       "    </tr>\n",
       "  </tbody>\n",
       "</table>\n",
       "</div>"
      ],
      "text/plain": [
       "   body_pos  body_neg  body_neu  body_comp  title_pos  title_neg  title_neu  \\\n",
       "0     0.169     0.068     0.763     0.7692      0.000      0.000      1.000   \n",
       "1     0.088     0.050     0.862     0.8591      0.000      0.000      1.000   \n",
       "2     0.000     0.000     1.000     0.0000      0.294      0.000      0.706   \n",
       "3     0.132     0.054     0.814     0.9075      0.000      0.263      0.737   \n",
       "4     0.077     0.048     0.875     0.9174      0.000      0.000      1.000   \n",
       "\n",
       "   title_comp  \n",
       "0      0.0000  \n",
       "1      0.0000  \n",
       "2      0.3612  \n",
       "3     -0.3612  \n",
       "4      0.0000  "
      ]
=======
      "text/plain": "   body_pos  body_neg  body_neu  body_comp  title_pos  title_neg  title_neu  \\\n0     0.169     0.068     0.763     0.7692      0.000      0.000      1.000   \n1     0.088     0.050     0.862     0.8591      0.000      0.000      1.000   \n2     0.000     0.000     1.000     0.0000      0.294      0.000      0.706   \n3     0.132     0.054     0.814     0.9075      0.000      0.263      0.737   \n4     0.077     0.048     0.875     0.9174      0.000      0.000      1.000   \n\n   title_comp  \n0      0.0000  \n1      0.0000  \n2      0.3612  \n3     -0.3612  \n4      0.0000  ",
      "text/html": "<div>\n<style scoped>\n    .dataframe tbody tr th:only-of-type {\n        vertical-align: middle;\n    }\n\n    .dataframe tbody tr th {\n        vertical-align: top;\n    }\n\n    .dataframe thead th {\n        text-align: right;\n    }\n</style>\n<table border=\"1\" class=\"dataframe\">\n  <thead>\n    <tr style=\"text-align: right;\">\n      <th></th>\n      <th>body_pos</th>\n      <th>body_neg</th>\n      <th>body_neu</th>\n      <th>body_comp</th>\n      <th>title_pos</th>\n      <th>title_neg</th>\n      <th>title_neu</th>\n      <th>title_comp</th>\n    </tr>\n  </thead>\n  <tbody>\n    <tr>\n      <td>0</td>\n      <td>0.169</td>\n      <td>0.068</td>\n      <td>0.763</td>\n      <td>0.7692</td>\n      <td>0.000</td>\n      <td>0.000</td>\n      <td>1.000</td>\n      <td>0.0000</td>\n    </tr>\n    <tr>\n      <td>1</td>\n      <td>0.088</td>\n      <td>0.050</td>\n      <td>0.862</td>\n      <td>0.8591</td>\n      <td>0.000</td>\n      <td>0.000</td>\n      <td>1.000</td>\n      <td>0.0000</td>\n    </tr>\n    <tr>\n      <td>2</td>\n      <td>0.000</td>\n      <td>0.000</td>\n      <td>1.000</td>\n      <td>0.0000</td>\n      <td>0.294</td>\n      <td>0.000</td>\n      <td>0.706</td>\n      <td>0.3612</td>\n    </tr>\n    <tr>\n      <td>3</td>\n      <td>0.132</td>\n      <td>0.054</td>\n      <td>0.814</td>\n      <td>0.9075</td>\n      <td>0.000</td>\n      <td>0.263</td>\n      <td>0.737</td>\n      <td>-0.3612</td>\n    </tr>\n    <tr>\n      <td>4</td>\n      <td>0.077</td>\n      <td>0.048</td>\n      <td>0.875</td>\n      <td>0.9174</td>\n      <td>0.000</td>\n      <td>0.000</td>\n      <td>1.000</td>\n      <td>0.0000</td>\n    </tr>\n  </tbody>\n</table>\n</div>"
>>>>>>> 3d805c91ee71e9f8fa234c3dca6843cdefb932e4
     },
     "execution_count": 11,
     "metadata": {},
<<<<<<< HEAD
     "output_type": "execute_result"
=======
     "execution_count": 11
>>>>>>> 3d805c91ee71e9f8fa234c3dca6843cdefb932e4
    }
   ],
   "source": [
    "x = data.drop(['title', 'body', 'class'], axis=1)\n",
    "y = data['class']\n",
    "x.head()"
   ]
  },
  {
   "cell_type": "code",
   "execution_count": 45,
   "metadata": {},
   "outputs": [
    {
     "name": "stdout",
     "output_type": "stream",
     "text": [
      "3490\n",
      "3490\n",
      "1745\n"
     ]
    }
   ],
   "source": [
    "# run SMOTE\n",
    "print(len(x))\n",
    "sm = SMOTE('minority')\n",
    "x, y = sm.fit_resample(x, y)\n",
    "print(len(x))\n",
    "print(list(y).count(True))"
   ]
  },
  {
   "cell_type": "markdown",
   "metadata": {},
   "source": [
    "# Training Classifiers \n",
    "\n",
    "We run our data through various classifers to see which one yields the most accurate history. "
   ]
  },
  {
   "cell_type": "code",
   "execution_count": 46,
   "metadata": {},
   "outputs": [
    {
     "name": "stdout",
     "output_type": "stream",
     "text": [
      "[0.61891117 0.62750716 0.61318052 0.63896848 0.66189112 0.7277937\n",
      " 0.70487106 0.71060172 0.73352436 0.72206304]\n",
      "              precision    recall  f1-score   support\n",
      "\n",
      "       False       0.73      0.56      0.63      1745\n",
      "        True       0.64      0.79      0.71      1745\n",
      "\n",
      "    accuracy                           0.68      3490\n",
      "   macro avg       0.69      0.68      0.67      3490\n",
      "weighted avg       0.69      0.68      0.67      3490\n",
      "\n"
     ]
    }
   ],
   "source": [
    "knn = KNeighborsClassifier(n_neighbors=5)\n",
    "cv = cross_val_score(knn, x, y, cv=10)\n",
    "print(cv)\n",
    "y_pred = cross_val_predict(knn, x, y, cv=10)\n",
    "report = classification_report(y, y_pred)\n",
    "print(report)"
   ]
  },
  {
   "cell_type": "code",
   "execution_count": 47,
   "metadata": {},
   "outputs": [
    {
     "name": "stdout",
     "output_type": "stream",
     "text": [
      "{'n_neighbors': 1}\n",
      "              precision    recall  f1-score   support\n",
      "\n",
      "       False       0.84      0.67      0.74      1745\n",
      "        True       0.72      0.87      0.79      1745\n",
      "\n",
      "    accuracy                           0.77      3490\n",
      "   macro avg       0.78      0.77      0.77      3490\n",
      "weighted avg       0.78      0.77      0.77      3490\n",
      "\n"
     ]
    }
   ],
   "source": [
    "param_grid = {'n_neighbors': [i for i in range(1,31)]}\n",
    "gridcv = GridSearchCV(knn, param_grid)\n",
    "gridcv.fit(x, y)\n",
    "print(gridcv.best_params_)\n",
    "gridcv.best_score_\n",
    "y_pred = cross_val_predict(gridcv, x, y, cv=10)\n",
    "report = classification_report(y, y_pred)\n",
    "print(report)"
   ]
  },
  {
   "cell_type": "markdown",
   "metadata": {},
   "source": [
    "# PCA \n",
    "We test our data after running it through a PCA. We found that the accuracy score decreased.  "
   ]
  },
  {
   "cell_type": "code",
   "execution_count": 56,
   "metadata": {},
   "outputs": [
    {
     "name": "stdout",
     "output_type": "stream",
     "text": [
      "(2792, 3)\n",
      "(698, 8)\n"
     ]
    }
   ],
   "source": [
    "x_train, x_test, y_train, y_test = train_test_split(x, y, test_size=0.2)\n",
    "pca = PCA(n_components = 0.95)\n",
    "pca.fit(x_train)\n",
    "x_train_pca = pca.transform(x_train)\n",
    "print(x_train_pca.shape)\n",
    "\n",
    "# apply to test set\n",
    "x_test_pca = pca.transform(x_test)\n",
    "print(x_test.shape)"
   ]
  },
  {
   "cell_type": "code",
   "execution_count": 57,
   "metadata": {},
   "outputs": [
    {
     "name": "stdout",
     "output_type": "stream",
     "text": [
      "{'n_neighbors': 1}\n"
     ]
    },
    {
     "data": {
      "text/plain": [
       "0.7260065016254064"
      ]
     },
     "execution_count": 57,
     "metadata": {},
     "output_type": "execute_result"
    }
   ],
   "source": [
    "param_grid = {'n_neighbors': [i for i in range(1,31)]}\n",
    "gridcv = GridSearchCV(knn, param_grid)\n",
    "gridcv.fit(x_train, y_train)\n",
    "print(gridcv.best_params_)\n",
    "gridcv.best_score_"
   ]
  },
  {
   "cell_type": "code",
   "execution_count": 58,
   "metadata": {},
   "outputs": [
    {
     "name": "stdout",
     "output_type": "stream",
     "text": [
      "{'max_depth': 15, 'min_samples_leaf': 30}\n"
     ]
    },
    {
     "data": {
      "text/plain": [
       "0.5816633645590885"
      ]
     },
     "execution_count": 58,
     "metadata": {},
     "output_type": "execute_result"
    }
   ],
   "source": [
    "tree = DecisionTreeClassifier(criterion='entropy')\n",
    "\n",
    "param_grid = {\n",
    "    'max_depth': range(1,16),\n",
    "    'min_samples_leaf': range(5,40,5),\n",
    "}\n",
    "gridcv = GridSearchCV(tree, param_grid)\n",
    "gridcv.fit(x_train, y_train)\n",
    "print(gridcv.best_params_)\n",
    "gridcv.best_score_"
   ]
  },
  {
   "cell_type": "code",
   "execution_count": 62,
   "metadata": {},
   "outputs": [
    {
     "name": "stdout",
     "output_type": "stream",
     "text": [
      "{'max_depth': 9, 'max_features': 'log2', 'min_samples_leaf': 8}\n"
     ]
    },
    {
     "data": {
      "text/plain": [
       "0.6096094536454626"
      ]
     },
     "execution_count": 62,
     "metadata": {},
     "output_type": "execute_result"
    }
   ],
   "source": [
    "rand_for = RandomForestClassifier()\n",
    "param_grid = {\n",
    "    'max_depth': range(4,10),\n",
    "    'min_samples_leaf': range(1,5),\n",
    "    'max_features': ('sqrt', 'log2')\n",
    "}\n",
    "gridcv = GridSearchCV(rand_for, param_grid)\n",
    "gridcv.fit(x_train, y_train)\n",
    "print(gridcv.best_params_)\n",
    "gridcv.best_score_"
   ]
  },
  {
   "cell_type": "markdown",
   "metadata": {},
   "source": [
    "The best-performing model was K-nearest-neighbors. Interestingly, the grid search found best results with k=1, which is unusual. It could be a result of overfitting, especially since, having run SMOTE, we have a lot of records that are near-duplicates of other records. This is similar to issues found in the Naive Bayes Classifier, and could be solved in the future by finding more data so that there is less need for bootstrapping to reduce class imbalance."
   ]
  }
 ],
 "metadata": {
  "file_extension": ".py",
  "kernelspec": {
   "display_name": "Python 3",
   "language": "python",
   "name": "python3"
  },
  "language_info": {
   "codemirror_mode": {
    "name": "ipython",
    "version": 3
   },
   "file_extension": ".py",
   "mimetype": "text/x-python",
   "name": "python",
   "nbconvert_exporter": "python",
   "pygments_lexer": "ipython3",
   "version": "3.7.4"
  },
  "mimetype": "text/x-python",
  "name": "python",
  "npconvert_exporter": "python",
  "pygments_lexer": "ipython3",
  "version": 3
 },
 "nbformat": 4,
 "nbformat_minor": 2
}
